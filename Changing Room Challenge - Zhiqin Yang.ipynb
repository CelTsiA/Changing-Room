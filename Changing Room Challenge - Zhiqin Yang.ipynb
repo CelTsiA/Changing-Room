{
 "cells": [
  {
   "cell_type": "markdown",
   "metadata": {},
   "source": [
    "Zhiqin Yang - zy2425"
   ]
  },
  {
   "cell_type": "code",
   "execution_count": 15,
   "metadata": {},
   "outputs": [],
   "source": [
    "import requests\n",
    "import re\n",
    "import pandas as pd\n",
    "from bs4 import BeautifulSoup\n",
    "\n",
    "\n",
    "url = \"https://www.thereformation.com/clothing?page=100\" # the total pages won't be more than 100, so set page = 100 includes all the products\n",
    "response = requests.get(url)\n",
    "results_page = BeautifulSoup(response.content,'lxml') \n",
    "home = \"https://www.thereformation.com/\""
   ]
  },
  {
   "cell_type": "code",
   "execution_count": 16,
   "metadata": {},
   "outputs": [],
   "source": [
    "wholepage = results_page.find_all('div', {'class':\"product-tile product-tile--default\"}) #contains a brief introduction of the products"
   ]
  },
  {
   "cell_type": "code",
   "execution_count": 17,
   "metadata": {},
   "outputs": [],
   "source": [
    "name = []\n",
    "price = []\n",
    "category = []\n",
    "color = []\n",
    "surl = []\n",
    "img = []\n",
    "for i in wholepage:\n",
    "    item = i.get(\"data-aggregate\")\n",
    "    if item == '{\"trackObject\": {\"ecommerce\":{\"click\":{\"products\":[{\"id\":\"1303674\",\"name\":\"Patagonia Men':\n",
    "        break # because we set page = 100 which is too big, so we stop when the contents includes an error. \n",
    "    item = eval(item)\n",
    "    name.append(item['trackObject']['ecommerce']['click']['products'][0]['name'])\n",
    "    price.append(item['trackObject']['ecommerce']['click']['products'][0]['price'])\n",
    "    category.append(item['trackObject']['ecommerce']['click']['products'][0]['category'])\n",
    "    color.append(item['trackObject']['ecommerce']['click']['products'][0]['dimension1'])#color\n",
    "    href = home+i.find('a',{'class':\"product-tile__anchor\"}).get('href')#link\n",
    "    surl.append(href)\n",
    "    img.append(i.find('img').get('data-src'))#img"
   ]
  },
  {
   "cell_type": "code",
   "execution_count": null,
   "metadata": {},
   "outputs": [],
   "source": [
    "size = []\n",
    "for i in surl: \n",
    "    suburl = i\n",
    "    response = requests.get(suburl)\n",
    "    sub = BeautifulSoup(response.content,'lxml') \n",
    "    search = sub.find_all('div',{'class':\"product-attribute__contents flex flex-flow-wrap\"})\n",
    "    if len(search) > 1:\n",
    "        sizes = search[1].get_text()[1:-1].replace('\\n',',')#[1:-1] -> we delete the unexpected '\\n'\n",
    "    else:\n",
    "        sizes = \" \"\n",
    "    sizes = sizes.split(\",\")\n",
    "    size.append(sizes)"
   ]
  },
  {
   "cell_type": "code",
   "execution_count": null,
   "metadata": {},
   "outputs": [],
   "source": [
    "des = []\n",
    "for i in surl: \n",
    "    suburl = i\n",
    "    response = requests.get(suburl)\n",
    "    sub = BeautifulSoup(response.content,'lxml') \n",
    "    search = sub.find_all('div',{'class':\"cms-generic-copy\"})\n",
    "    if len(search) > 1:\n",
    "        subdes = search[1].get_text()[1:-1]\n",
    "    else:\n",
    "        subdes = ' '\n",
    "    des.append(subdes)"
   ]
  },
  {
   "cell_type": "code",
   "execution_count": null,
   "metadata": {},
   "outputs": [],
   "source": [
    "material = []\n",
    "for i in surl: \n",
    "    suburl = i\n",
    "    response = requests.get(suburl)\n",
    "    sub = BeautifulSoup(response.content,'lxml') \n",
    "    search = sub.find_all('div',{'class':\"margin-b--15\"})\n",
    "    if len(search) > 3:\n",
    "        fabric = search[3].get_text()[1:-1]\n",
    "    else:\n",
    "        fabric = ' '\n",
    "    material.append(fabric)"
   ]
  },
  {
   "cell_type": "code",
   "execution_count": null,
   "metadata": {},
   "outputs": [],
   "source": [
    "import pandas as pd\n",
    "scrap_result = pd.DataFrame(name,columns = [\"Product Name\"])"
   ]
  },
  {
   "cell_type": "code",
   "execution_count": null,
   "metadata": {},
   "outputs": [],
   "source": [
    "scrap_result[\"Price\"] = price\n",
    "scrap_result[\"Category\"] = category\n",
    "scrap_result[\"Color\"] = color\n",
    "scrap_result[\"Size\"] = size\n",
    "scrap_result[\"Material\"] = material\n",
    "scrap_result[\"Description\"] = des\n",
    "scrap_result[\"Link\"] = surl\n",
    "scrap_result[\"Img Link\"] = img #form the table we want"
   ]
  },
  {
   "cell_type": "code",
   "execution_count": null,
   "metadata": {},
   "outputs": [],
   "source": [
    "from datetime import datetime\n",
    "now = datetime.now().time()\n",
    "timenow = [now.strftime(\"%Y-%m-%d %H:%M:%S\")]\n",
    "scrap_result[\"Scrapped Date\"] = timenow * len(name)# show the date we scrap these information\n",
    "# because reformation only sells clothing for women, so I didn't include the \"gender\" and \"secondhand\" in the table"
   ]
  },
  {
   "cell_type": "code",
   "execution_count": 35,
   "metadata": {},
   "outputs": [
    {
     "name": "stdout",
     "output_type": "stream",
     "text": [
      "Collecting psycopg2\n",
      "  Downloading psycopg2-2.9.3-cp39-cp39-win_amd64.whl (1.2 MB)\n",
      "Installing collected packages: psycopg2\n",
      "Successfully installed psycopg2-2.9.3\n"
     ]
    }
   ],
   "source": [
    "!pip install psycopg2"
   ]
  },
  {
   "cell_type": "code",
   "execution_count": null,
   "metadata": {},
   "outputs": [],
   "source": [
    "from sqlalchemy import create_engine\n",
    "engine = create_engine('postgresql://postgres@localhost:5432/Reformation')\n",
    "scrap_result.to_sql('scrap_result',engine,index=False,if_exists='append')\n",
    "# the codes we need to update our data into AWS RDS is similar"
   ]
  },
  {
   "cell_type": "code",
   "execution_count": null,
   "metadata": {},
   "outputs": [],
   "source": []
  }
 ],
 "metadata": {
  "kernelspec": {
   "display_name": "Python 3 (ipykernel)",
   "language": "python",
   "name": "python3"
  },
  "language_info": {
   "codemirror_mode": {
    "name": "ipython",
    "version": 3
   },
   "file_extension": ".py",
   "mimetype": "text/x-python",
   "name": "python",
   "nbconvert_exporter": "python",
   "pygments_lexer": "ipython3",
   "version": "3.9.7"
  }
 },
 "nbformat": 4,
 "nbformat_minor": 4
}
